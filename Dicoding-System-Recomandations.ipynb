{
 "cells": [
  {
   "cell_type": "markdown",
   "id": "bd893b65",
   "metadata": {},
   "source": [
    "# Sistem Rekomendasi Film dengan MovieLens\n",
    "\n",
    "Dokumentasi ini menjelaskan langkah-langkah dalam membangun sistem rekomendasi film menggunakan dataset MovieLens.\n",
    "\n",
    "**Langkah utama:**\n",
    "1. Project Overview & Business Understanding\n",
    "2. Data Loading & Sampling\n",
    "3. Data Understanding (EDA & fitur)\n",
    "4. Data Preparation (Filter & Split)\n",
    "5. Modeling (Content-Based & Collaborative Filtering)\n",
    "6. Evaluation (RMSE, Precision@10, Recall@10)\n",
    "7. Discussion & Rekomendasi Bisnis\n",
    "8. Conclusion\n",
    "\"\"\"\n"
   ]
  },
  {
   "cell_type": "markdown",
   "id": "535dcf3f",
   "metadata": {},
   "source": [
    "## 1. Project Overview & Business Understanding\n",
    "\n",
    "**Latar Belakang**\n",
    "Platform streaming film memiliki ribuan judul, sehingga pengguna seringkali kesulitan menemukan film yang sesuai dengan preferensi mereka. Sistem rekomendasi dirancang untuk membantu pengguna menemukan film yang relevan, yang pada gilirannya dapat meningkatkan *engagement* dan *retensi* pengguna pada platform.\n",
    "\n",
    "**Problem Statement**\n",
    "- Bagaimana cara memberikan rekomendasi film yang relevan dan personal kepada pengguna?\n",
    "\n",
    "**Goals**\n",
    "1. Membangun dua jenis model sistem rekomendasi: *Content-Based Filtering* dan *Collaborative Filtering*.\n",
    "2. Membandingkan performa kedua model menggunakan metrik evaluasi standar: RMSE, Precision@10, dan Recall@10.\n",
    "3. Memberikan *insight* dan rekomendasi bisnis berdasarkan hasil evaluasi model.\n"
   ]
  },
  {
   "cell_type": "markdown",
   "id": "b1c84487",
   "metadata": {},
   "source": [
    "## 2. Data Loading & Sampling\n",
    "\n",
    "Tahap ini melibatkan persiapan data awal.\n",
    "\n",
    "- **Sumber Data**: Dataset MovieLens (misalnya, 100K atau 1M) yang berisi metadata film dan rating yang diberikan oleh pengguna.\n",
    "- **Link Download**: [Movie Recommendation System Kaggle Dataset](https://www.kaggle.com/datasets/parasharmanas/movie-recommendation-system)\n",
    "- **Sampling**: Untuk mengelola penggunaan memori, terutama pada lingkungan dengan sumber daya terbatas, kita akan mengambil sampel acak sebanyak **200.000** data rating.\n",
    "\n",
    "### Import Library\n",
    "Mengimpor pustaka Python yang diperlukan untuk analisis data, pemodelan, dan evaluasi.\n"
   ]
  },
  {
   "cell_type": "code",
   "execution_count": 4,
   "id": "5fa5fabf",
   "metadata": {},
   "outputs": [],
   "source": [
    "import pandas as pd\n",
    "import numpy as np\n",
    "import matplotlib.pyplot as plt\n",
    "import psutil\n",
    "from sklearn.feature_extraction.text import TfidfVectorizer\n",
    "from sklearn.neighbors import NearestNeighbors\n",
    "from scipy.sparse import csr_matrix\n",
    "from sklearn.metrics.pairwise import cosine_similarity\n",
    "from surprise import Dataset, Reader, SVD\n",
    "from surprise.model_selection import train_test_split as surprise_split\n",
    "from surprise import accuracy"
   ]
  },
  {
   "cell_type": "markdown",
   "id": "f8801910",
   "metadata": {},
   "source": [
    "### Load Data\n",
    "Membaca dataset `movies.csv` (berisi informasi film seperti ID, judul, genre) dan `ratings.csv` (berisi informasi rating seperti ID pengguna, ID film, rating, timestamp) ke dalam DataFrame Pandas.\n"
   ]
  },
  {
   "cell_type": "code",
   "execution_count": 5,
   "id": "0fb6d362",
   "metadata": {},
   "outputs": [],
   "source": [
    "movies = pd.read_csv('datasets/movies.csv')\n",
    "ratings = pd.read_csv('datasets/ratings.csv')"
   ]
  },
  {
   "cell_type": "markdown",
   "id": "59f2b2c2",
   "metadata": {},
   "source": [
    "### Data Sampling\n",
    "1. Mengambil sampel acak sebanyak 200.000 baris dari DataFrame `ratings`.\n",
    "2. Menggabungkan (merge) data sampel rating dengan data `movies` berdasarkan `movieId`.\n",
    "3. Mengonversi kolom `timestamp` menjadi format datetime.\n",
    "4. Mengekstrak tahun rilis film dari kolom `title` dan menyimpannya dalam kolom baru `year`.\n",
    "5. Menampilkan dimensi (bentuk) DataFrame hasil sampling dan penggabungan.\n"
   ]
  },
  {
   "cell_type": "code",
   "execution_count": 6,
   "id": "9764b9ca",
   "metadata": {},
   "outputs": [
    {
     "name": "stdout",
     "output_type": "stream",
     "text": [
      "Dataset shape: (200000, 7)\n"
     ]
    }
   ],
   "source": [
    "df = ratings.sample(n=200_000, random_state=42).merge(movies, on='movieId')\n",
    "df['timestamp'] = pd.to_datetime(df['timestamp'], unit='s')\n",
    "df['year'] = df['title'].str.extract(r\"\\((\\d{4})\\)\", expand=False).astype('Int64')\n",
    "print(\"Dataset shape:\", df.shape)"
   ]
  },
  {
   "cell_type": "markdown",
   "id": "41fab8aa",
   "metadata": {},
   "source": [
    "## 3. Data Understanding\n",
    "\n",
    "Memahami karakteristik data melalui *Exploratory Data Analysis* (EDA).\n",
    "\n",
    "### Struktur & Fitur\n",
    "Menampilkan informasi ringkas tentang DataFrame, termasuk tipe data setiap kolom dan jumlah non-null values.\n"
   ]
  },
  {
   "cell_type": "code",
   "execution_count": 7,
   "id": "24ec32e7",
   "metadata": {},
   "outputs": [
    {
     "name": "stdout",
     "output_type": "stream",
     "text": [
      "<class 'pandas.core.frame.DataFrame'>\n",
      "RangeIndex: 200000 entries, 0 to 199999\n",
      "Data columns (total 7 columns):\n",
      " #   Column     Non-Null Count   Dtype         \n",
      "---  ------     --------------   -----         \n",
      " 0   userId     200000 non-null  int64         \n",
      " 1   movieId    200000 non-null  int64         \n",
      " 2   rating     200000 non-null  float64       \n",
      " 3   timestamp  200000 non-null  datetime64[ns]\n",
      " 4   title      200000 non-null  object        \n",
      " 5   genres     200000 non-null  object        \n",
      " 6   year       199907 non-null  Int64         \n",
      "dtypes: Int64(1), datetime64[ns](1), float64(1), int64(2), object(2)\n",
      "memory usage: 10.9+ MB\n"
     ]
    }
   ],
   "source": [
    "df.info()"
   ]
  },
  {
   "cell_type": "markdown",
   "id": "c988ac59",
   "metadata": {},
   "source": [
    "### Missing Values\n",
    "Memeriksa dan menghitung jumlah nilai yang hilang (missing values) di setiap kolom. Kolom `year` mungkin memiliki missing values jika format judul film tidak konsisten.\n"
   ]
  },
  {
   "cell_type": "code",
   "execution_count": 8,
   "id": "ff8976c5",
   "metadata": {},
   "outputs": [
    {
     "data": {
      "text/plain": [
       "userId        0\n",
       "movieId       0\n",
       "rating        0\n",
       "timestamp     0\n",
       "title         0\n",
       "genres        0\n",
       "year         93\n",
       "dtype: int64"
      ]
     },
     "execution_count": 8,
     "metadata": {},
     "output_type": "execute_result"
    }
   ],
   "source": [
    "df.isna().sum()"
   ]
  },
  {
   "cell_type": "markdown",
   "id": "921ff905",
   "metadata": {},
   "source": [
    "### Statistik Deskriptif\n",
    "Menampilkan statistik deskriptif dasar (seperti count, mean, std, min, max, kuartil) untuk kolom `rating`.\n"
   ]
  },
  {
   "cell_type": "code",
   "execution_count": 9,
   "id": "86418933",
   "metadata": {},
   "outputs": [
    {
     "name": "stdout",
     "output_type": "stream",
     "text": [
      "count    200000.000000\n",
      "mean          3.534775\n",
      "std           1.062061\n",
      "min           0.500000\n",
      "25%           3.000000\n",
      "50%           3.500000\n",
      "75%           4.000000\n",
      "max           5.000000\n",
      "Name: rating, dtype: float64\n"
     ]
    }
   ],
   "source": [
    "print(df['rating'].describe())"
   ]
  },
  {
   "cell_type": "markdown",
   "id": "2e738f58",
   "metadata": {},
   "source": [
    "### Distribusi Rating\n",
    "Memvisualisasikan distribusi nilai rating menggunakan histogram untuk melihat sebaran frekuensi rating yang diberikan pengguna.\n"
   ]
  },
  {
   "cell_type": "code",
   "execution_count": 10,
   "id": "b34737df",
   "metadata": {},
   "outputs": [
    {
     "data": {
      "image/png": "[encoded data removed]",
      "text/plain": [
       "<Figure size 640x480 with 1 Axes>"
      ]
     },
     "metadata": {},
     "output_type": "display_data"
    }
   ],
   "source": [
    "plt.figure()\n",
    "df['rating'].hist(bins=10)\n",
    "plt.title('Distribusi Rating')\n",
    "plt.xlabel('Rating')\n",
    "plt.ylabel('Frekuensi')\n",
    "plt.show()"
   ]
  },
  {
   "cell_type": "markdown",
   "id": "a51cf63d",
   "metadata": {},
   "source": [
    "### Analisis Genre\n",
    "1. Mengubah kolom `genres` (yang berisi string genre dipisahkan oleh `|`) menjadi representasi *dummy variable* (one-hot encoding).\n",
    "2. Menghitung jumlah kemunculan setiap genre.\n",
    "3. Menampilkan 5 genre paling populer berdasarkan jumlah kemunculannya.\n",
    "4. Memvisualisasikan 5 genre teratas menggunakan bar chart.\n"
   ]
  },
  {
   "cell_type": "code",
   "execution_count": 11,
   "id": "03ec4b99",
   "metadata": {},
   "outputs": [
    {
     "name": "stdout",
     "output_type": "stream",
     "text": [
      "Top 5 genre by count:\n",
      " Drama        87170\n",
      "Comedy       71231\n",
      "Action       59418\n",
      "Thriller     54156\n",
      "Adventure    46835\n",
      "dtype: int64\n"
     ]
    }
   ],
   "source": [
    "genres_dummies = df['genres'].str.get_dummies(sep='|')\n",
    "genre_counts = genres_dummies.sum().sort_values(ascending=False)\n",
    "print(\"Top 5 genre by count:\\n\", genre_counts.head())"
   ]
  },
  {
   "cell_type": "code",
   "execution_count": 12,
   "id": "24b8c0e3",
   "metadata": {},
   "outputs": [
    {
     "data": {
      "image/png": "[encoded data removed]",
      "text/plain": [
       "<Figure size 640x480 with 1 Axes>"
      ]
     },
     "metadata": {},
     "output_type": "display_data"
    }
   ],
   "source": [
    "plt.figure()\n",
    "genre_counts.head(5).plot(kind='bar')\n",
    "plt.title('Top 5 Genre')\n",
    "plt.show()"
   ]
  },
  {
   "cell_type": "markdown",
   "id": "e3feda51",
   "metadata": {},
   "source": [
    "## 4. Data Preparation\n",
    "\n",
    "Mempersiapkan data untuk pemodelan.\n",
    "\n",
    "### Filtering Data\n",
    "Melakukan filtering untuk mengurangi noise dan ukuran data, serta fokus pada interaksi yang lebih signifikan:\n",
    "- **Filter Pengguna**: Mempertahankan pengguna yang telah memberikan minimal 50 rating. Ini membantu mengurangi dampak *cold-start* pengguna baru atau pengguna yang tidak aktif.\n",
    "- **Filter Film**: Mempertahankan film yang telah menerima minimal 50 rating. Ini memfokuskan model pada film yang cukup populer dan memiliki data interaksi yang memadai.\n",
    "Menampilkan dimensi data setelah filtering.\n"
   ]
  },
  {
   "cell_type": "code",
   "execution_count": 13,
   "id": "1bef5f0a",
   "metadata": {},
   "outputs": [
    {
     "name": "stdout",
     "output_type": "stream",
     "text": [
      "Shape after filter: (65, 7)\n"
     ]
    }
   ],
   "source": [
    "group_u = df['userId'].value_counts()\n",
    "valid_users = group_u[group_u >= 50].index\n",
    "group_m = df['movieId'].value_counts()\n",
    "valid_movies = group_m[group_m >= 50].index\n",
    "df = df[df['userId'].isin(valid_users) & df['movieId'].isin(valid_movies)]\n",
    "print(\"Shape after filter:\", df.shape)"
   ]
  },
  {
   "cell_type": "markdown",
   "id": "19c86477",
   "metadata": {},
   "source": [
    "### Split Train/Test Manual per-User\n",
    "Membagi data menjadi set pelatihan (train) dan pengujian (test) dengan strategi per-pengguna. Untuk setiap pengguna, 20% dari ratingnya (minimal 1) diambil secara acak sebagai data test, sisanya menjadi data train. Ini memastikan bahwa data test berisi rating dari pengguna yang juga ada di data train, mensimulasikan skenario nyata di mana kita memprediksi rating untuk pengguna yang sudah dikenal.\n"
   ]
  },
  {
   "cell_type": "code",
   "execution_count": 14,
   "id": "d4cd2198",
   "metadata": {},
   "outputs": [
    {
     "name": "stdout",
     "output_type": "stream",
     "text": [
      "Train: (54, 7) Test: (11, 7)\n"
     ]
    }
   ],
   "source": [
    "train_list, test_list = [], []\n",
    "for uid, grp in df.groupby('userId'):\n",
    "    n_test = max(1, int(len(grp)*0.2))\n",
    "    test_idx = grp.sample(n=n_test, random_state=42).index\n",
    "    train_list.append(grp.drop(test_idx))\n",
    "    test_list.append(grp.loc[test_idx])\n",
    "train_df = pd.concat(train_list).reset_index(drop=True)\n",
    "test_df  = pd.concat(test_list).reset_index(drop=True)\n",
    "print(\"Train:\", train_df.shape, \"Test:\", test_df.shape)\n"
   ]
  },
  {
   "cell_type": "markdown",
   "id": "0bf56236",
   "metadata": {},
   "source": [
    "### Sparse Representation\n",
    "Membuat representasi *user-item interaction matrix* dari data training. Matriks ini biasanya sangat *sparse* (banyak nilai nol) karena pengguna hanya memberi rating pada sebagian kecil dari total film.\n",
    "1. Menggunakan `pivot` untuk membuat matriks dengan `userId` sebagai baris, `movieId` sebagai kolom, dan `rating` sebagai nilai. Nilai yang hilang (film yang belum dirating pengguna) diisi dengan 0.\n",
    "2. Mengonversi matriks pivot menjadi format *Compressed Sparse Row (CSR)* untuk efisiensi memori dan komputasi.\n",
    "3. Menampilkan dimensi matriks sparse.\n"
   ]
  },
  {
   "cell_type": "code",
   "execution_count": 15,
   "id": "22c693e5",
   "metadata": {},
   "outputs": [
    {
     "name": "stdout",
     "output_type": "stream",
     "text": [
      "Sparse matrix shape: (10, 51)\n"
     ]
    }
   ],
   "source": [
    "pivot = train_df.pivot(index='userId', columns='movieId', values='rating').fillna(0)\n",
    "sparse_matrix = csr_matrix(pivot.values)\n",
    "print(\"Sparse matrix shape:\", sparse_matrix.shape)\n"
   ]
  },
  {
   "cell_type": "markdown",
   "id": "5e0ad671",
   "metadata": {},
   "source": [
    "## 5. Modeling\n",
    "\n",
    "Membangun dua model rekomendasi: Content-Based Filtering dan Collaborative Filtering.\n",
    "\n",
    "### Content-Based Filtering\n",
    "Model ini merekomendasikan item berdasarkan kemiripan fitur item (dalam kasus ini, genre film) dengan item yang disukai pengguna di masa lalu.\n",
    "1. Membuat DataFrame `content_df` yang berisi `movieId` unik dan `genres`-nya.\n",
    "2. Menggunakan `TfidfVectorizer` untuk mengubah teks genre menjadi vektor numerik TF-IDF. Ini menangkap pentingnya setiap genre dalam deskripsi film.\n",
    "3. Melatih model `NearestNeighbors` (dengan metrik *cosine similarity*) pada matriks TF-IDF untuk menemukan film-film dengan genre paling mirip.\n"
   ]
  },
  {
   "cell_type": "code",
   "execution_count": 16,
   "id": "5bb2a7cc",
   "metadata": {},
   "outputs": [
    {
     "data": {
      "text/html": [
       "<style>#sk-container-id-1 {\n",
       "  /* Definition of color scheme common for light and dark mode */\n",
       "  --sklearn-color-text: #000;\n",
       "  --sklearn-color-text-muted: #666;\n",
       "  --sklearn-color-line: gray;\n",
       "  /* Definition of color scheme for unfitted estimators */\n",
       "  --sklearn-color-unfitted-level-0: #fff5e6;\n",
       "  --sklearn-color-unfitted-level-1: #f6e4d2;\n",
       "  --sklearn-color-unfitted-level-2: #ffe0b3;\n",
       "  --sklearn-color-unfitted-level-3: chocolate;\n",
       "  /* Definition of color scheme for fitted estimators */\n",
       "  --sklearn-color-fitted-level-0: #f0f8ff;\n",
       "  --sklearn-color-fitted-level-1: #d4ebff;\n",
       "  --sklearn-color-fitted-level-2: #b3dbfd;\n",
       "  --sklearn-color-fitted-level-3: cornflowerblue;\n",
       "\n",
       "  /* Specific color for light theme */\n",
       "  --sklearn-color-text-on-default-background: var(--sg-text-color, var(--theme-code-foreground, var(--jp-content-font-color1, black)));\n",
       "  --sklearn-color-background: var(--sg-background-color, var(--theme-background, var(--jp-layout-color0, white)));\n",
       "  --sklearn-color-border-box: var(--sg-text-color, var(--theme-code-foreground, var(--jp-content-font-color1, black)));\n",
       "  --sklearn-color-icon: #696969;\n",
       "\n",
       "  @media (prefers-color-scheme: dark) {\n",
       "    /* Redefinition of color scheme for dark theme */\n",
       "    --sklearn-color-text-on-default-background: var(--sg-text-color, var(--theme-code-foreground, var(--jp-content-font-color1, white)));\n",
       "    --sklearn-color-background: var(--sg-background-color, var(--theme-background, var(--jp-layout-color0, #111)));\n",
       "    --sklearn-color-border-box: var(--sg-text-color, var(--theme-code-foreground, var(--jp-content-font-color1, white)));\n",
       "    --sklearn-color-icon: #878787;\n",
       "  }\n",
       "}\n",
       "\n",
       "#sk-container-id-1 {\n",
       "  color: var(--sklearn-color-text);\n",
       "}\n",
       "\n",
       "#sk-container-id-1 pre {\n",
       "  padding: 0;\n",
       "}\n",
       "\n",
       "#sk-container-id-1 input.sk-hidden--visually {\n",
       "  border: 0;\n",
       "  clip: rect(1px 1px 1px 1px);\n",
       "  clip: rect(1px, 1px, 1px, 1px);\n",
       "  height: 1px;\n",
       "  margin: -1px;\n",
       "  overflow: hidden;\n",
       "  padding: 0;\n",
       "  position: absolute;\n",
       "  width: 1px;\n",
       "}\n",
       "\n",
       "#sk-container-id-1 div.sk-dashed-wrapped {\n",
       "  border: 1px dashed var(--sklearn-color-line);\n",
       "  margin: 0 0.4em 0.5em 0.4em;\n",
       "  box-sizing: border-box;\n",
       "  padding-bottom: 0.4em;\n",
       "  background-color: var(--sklearn-color-background);\n",
       "}\n",
       "\n",
       "#sk-container-id-1 div.sk-container {\n",
       "  /* jupyter's `normalize.less` sets `[hidden] { display: none; }`\n",
       "     but bootstrap.min.css set `[hidden] { display: none !important; }`\n",
       "     so we also need the `!important` here to be able to override the\n",
       "     default hidden behavior on the sphinx rendered scikit-learn.org.\n",
       "     See: https://github.com/scikit-learn/scikit-learn/issues/21755 */\n",
       "  display: inline-block !important;\n",
       "  position: relative;\n",
       "}\n",
       "\n",
       "#sk-container-id-1 div.sk-text-repr-fallback {\n",
       "  display: none;\n",
       "}\n",
       "\n",
       "div.sk-parallel-item,\n",
       "div.sk-serial,\n",
       "div.sk-item {\n",
       "  /* draw centered vertical line to link estimators */\n",
       "  background-image: linear-gradient(var(--sklearn-color-text-on-default-background), var(--sklearn-color-text-on-default-background));\n",
       "  background-size: 2px 100%;\n",
       "  background-repeat: no-repeat;\n",
       "  background-position: center center;\n",
       "}\n",
       "\n",
       "/* Parallel-specific style estimator block */\n",
       "\n",
       "#sk-container-id-1 div.sk-parallel-item::after {\n",
       "  content: \"\";\n",
       "  width: 100%;\n",
       "  border-bottom: 2px solid var(--sklearn-color-text-on-default-background);\n",
       "  flex-grow: 1;\n",
       "}\n",
       "\n",
       "#sk-container-id-1 div.sk-parallel {\n",
       "  display: flex;\n",
       "  align-items: stretch;\n",
       "  justify-content: center;\n",
       "  background-color: var(--sklearn-color-background);\n",
       "  position: relative;\n",
       "}\n",
       "\n",
       "#sk-container-id-1 div.sk-parallel-item {\n",
       "  display: flex;\n",
       "  flex-direction: column;\n",
       "}\n",
       "\n",
       "#sk-container-id-1 div.sk-parallel-item:first-child::after {\n",
       "  align-self: flex-end;\n",
       "  width: 50%;\n",
       "}\n",
       "\n",
       "#sk-container-id-1 div.sk-parallel-item:last-child::after {\n",
       "  align-self: flex-start;\n",
       "  width: 50%;\n",
       "}\n",
       "\n",
       "#sk-container-id-1 div.sk-parallel-item:only-child::after {\n",
       "  width: 0;\n",
       "}\n",
       "\n",
       "/* Serial-specific style estimator block */\n",
       "\n",
       "#sk-container-id-1 div.sk-serial {\n",
       "  display: flex;\n",
       "  flex-direction: column;\n",
       "  align-items: center;\n",
       "  background-color: var(--sklearn-color-background);\n",
       "  padding-right: 1em;\n",
       "  padding-left: 1em;\n",
       "}\n",
       "\n",
       "\n",
       "/* Toggleable style: style used for estimator/Pipeline/ColumnTransformer box that is\n",
       "clickable and can be expanded/collapsed.\n",
       "- Pipeline and ColumnTransformer use this feature and define the default style\n",
       "- Estimators will overwrite some part of the style using the `sk-estimator` class\n",
       "*/\n",
       "\n",
       "/* Pipeline and ColumnTransformer style (default) */\n",
       "\n",
       "#sk-container-id-1 div.sk-toggleable {\n",
       "  /* Default theme specific background. It is overwritten whether we have a\n",
       "  specific estimator or a Pipeline/ColumnTransformer */\n",
       "  background-color: var(--sklearn-color-background);\n",
       "}\n",
       "\n",
       "/* Toggleable label */\n",
       "#sk-container-id-1 label.sk-toggleable__label {\n",
       "  cursor: pointer;\n",
       "  display: flex;\n",
       "  width: 100%;\n",
       "  margin-bottom: 0;\n",
       "  padding: 0.5em;\n",
       "  box-sizing: border-box;\n",
       "  text-align: center;\n",
       "  align-items: start;\n",
       "  justify-content: space-between;\n",
       "  gap: 0.5em;\n",
       "}\n",
       "\n",
       "#sk-container-id-1 label.sk-toggleable__label .caption {\n",
       "  font-size: 0.6rem;\n",
       "  font-weight: lighter;\n",
       "  color: var(--sklearn-color-text-muted);\n",
       "}\n",
       "\n",
       "#sk-container-id-1 label.sk-toggleable__label-arrow:before {\n",
       "  /* Arrow on the left of the label */\n",
       "  content: \"▸\";\n",
       "  float: left;\n",
       "  margin-right: 0.25em;\n",
       "  color: var(--sklearn-color-icon);\n",
       "}\n",
       "\n",
       "#sk-container-id-1 label.sk-toggleable__label-arrow:hover:before {\n",
       "  color: var(--sklearn-color-text);\n",
       "}\n",
       "\n",
       "/* Toggleable content - dropdown */\n",
       "\n",
       "#sk-container-id-1 div.sk-toggleable__content {\n",
       "  max-height: 0;\n",
       "  max-width: 0;\n",
       "  overflow: hidden;\n",
       "  text-align: left;\n",
       "  /* unfitted */\n",
       "  background-color: var(--sklearn-color-unfitted-level-0);\n",
       "}\n",
       "\n",
       "#sk-container-id-1 div.sk-toggleable__content.fitted {\n",
       "  /* fitted */\n",
       "  background-color: var(--sklearn-color-fitted-level-0);\n",
       "}\n",
       "\n",
       "#sk-container-id-1 div.sk-toggleable__content pre {\n",
       "  margin: 0.2em;\n",
       "  border-radius: 0.25em;\n",
       "  color: var(--sklearn-color-text);\n",
       "  /* unfitted */\n",
       "  background-color: var(--sklearn-color-unfitted-level-0);\n",
       "}\n",
       "\n",
       "#sk-container-id-1 div.sk-toggleable__content.fitted pre {\n",
       "  /* unfitted */\n",
       "  background-color: var(--sklearn-color-fitted-level-0);\n",
       "}\n",
       "\n",
       "#sk-container-id-1 input.sk-toggleable__control:checked~div.sk-toggleable__content {\n",
       "  /* Expand drop-down */\n",
       "  max-height: 200px;\n",
       "  max-width: 100%;\n",
       "  overflow: auto;\n",
       "}\n",
       "\n",
       "#sk-container-id-1 input.sk-toggleable__control:checked~label.sk-toggleable__label-arrow:before {\n",
       "  content: \"▾\";\n",
       "}\n",
       "\n",
       "/* Pipeline/ColumnTransformer-specific style */\n",
       "\n",
       "#sk-container-id-1 div.sk-label input.sk-toggleable__control:checked~label.sk-toggleable__label {\n",
       "  color: var(--sklearn-color-text);\n",
       "  background-color: var(--sklearn-color-unfitted-level-2);\n",
       "}\n",
       "\n",
       "#sk-container-id-1 div.sk-label.fitted input.sk-toggleable__control:checked~label.sk-toggleable__label {\n",
       "  background-color: var(--sklearn-color-fitted-level-2);\n",
       "}\n",
       "\n",
       "/* Estimator-specific style */\n",
       "\n",
       "/* Colorize estimator box */\n",
       "#sk-container-id-1 div.sk-estimator input.sk-toggleable__control:checked~label.sk-toggleable__label {\n",
       "  /* unfitted */\n",
       "  background-color: var(--sklearn-color-unfitted-level-2);\n",
       "}\n",
       "\n",
       "#sk-container-id-1 div.sk-estimator.fitted input.sk-toggleable__control:checked~label.sk-toggleable__label {\n",
       "  /* fitted */\n",
       "  background-color: var(--sklearn-color-fitted-level-2);\n",
       "}\n",
       "\n",
       "#sk-container-id-1 div.sk-label label.sk-toggleable__label,\n",
       "#sk-container-id-1 div.sk-label label {\n",
       "  /* The background is the default theme color */\n",
       "  color: var(--sklearn-color-text-on-default-background);\n",
       "}\n",
       "\n",
       "/* On hover, darken the color of the background */\n",
       "#sk-container-id-1 div.sk-label:hover label.sk-toggleable__label {\n",
       "  color: var(--sklearn-color-text);\n",
       "  background-color: var(--sklearn-color-unfitted-level-2);\n",
       "}\n",
       "\n",
       "/* Label box, darken color on hover, fitted */\n",
       "#sk-container-id-1 div.sk-label.fitted:hover label.sk-toggleable__label.fitted {\n",
       "  color: var(--sklearn-color-text);\n",
       "  background-color: var(--sklearn-color-fitted-level-2);\n",
       "}\n",
       "\n",
       "/* Estimator label */\n",
       "\n",
       "#sk-container-id-1 div.sk-label label {\n",
       "  font-family: monospace;\n",
       "  font-weight: bold;\n",
       "  display: inline-block;\n",
       "  line-height: 1.2em;\n",
       "}\n",
       "\n",
       "#sk-container-id-1 div.sk-label-container {\n",
       "  text-align: center;\n",
       "}\n",
       "\n",
       "/* Estimator-specific */\n",
       "#sk-container-id-1 div.sk-estimator {\n",
       "  font-family: monospace;\n",
       "  border: 1px dotted var(--sklearn-color-border-box);\n",
       "  border-radius: 0.25em;\n",
       "  box-sizing: border-box;\n",
       "  margin-bottom: 0.5em;\n",
       "  /* unfitted */\n",
       "  background-color: var(--sklearn-color-unfitted-level-0);\n",
       "}\n",
       "\n",
       "#sk-container-id-1 div.sk-estimator.fitted {\n",
       "  /* fitted */\n",
       "  background-color: var(--sklearn-color-fitted-level-0);\n",
       "}\n",
       "\n",
       "/* on hover */\n",
       "#sk-container-id-1 div.sk-estimator:hover {\n",
       "  /* unfitted */\n",
       "  background-color: var(--sklearn-color-unfitted-level-2);\n",
       "}\n",
       "\n",
       "#sk-container-id-1 div.sk-estimator.fitted:hover {\n",
       "  /* fitted */\n",
       "  background-color: var(--sklearn-color-fitted-level-2);\n",
       "}\n",
       "\n",
       "/* Specification for estimator info (e.g. \"i\" and \"?\") */\n",
       "\n",
       "/* Common style for \"i\" and \"?\" */\n",
       "\n",
       ".sk-estimator-doc-link,\n",
       "a:link.sk-estimator-doc-link,\n",
       "a:visited.sk-estimator-doc-link {\n",
       "  float: right;\n",
       "  font-size: smaller;\n",
       "  line-height: 1em;\n",
       "  font-family: monospace;\n",
       "  background-color: var(--sklearn-color-background);\n",
       "  border-radius: 1em;\n",
       "  height: 1em;\n",
       "  width: 1em;\n",
       "  text-decoration: none !important;\n",
       "  margin-left: 0.5em;\n",
       "  text-align: center;\n",
       "  /* unfitted */\n",
       "  border: var(--sklearn-color-unfitted-level-1) 1pt solid;\n",
       "  color: var(--sklearn-color-unfitted-level-1);\n",
       "}\n",
       "\n",
       ".sk-estimator-doc-link.fitted,\n",
       "a:link.sk-estimator-doc-link.fitted,\n",
       "a:visited.sk-estimator-doc-link.fitted {\n",
       "  /* fitted */\n",
       "  border: var(--sklearn-color-fitted-level-1) 1pt solid;\n",
       "  color: var(--sklearn-color-fitted-level-1);\n",
       "}\n",
       "\n",
       "/* On hover */\n",
       "div.sk-estimator:hover .sk-estimator-doc-link:hover,\n",
       ".sk-estimator-doc-link:hover,\n",
       "div.sk-label-container:hover .sk-estimator-doc-link:hover,\n",
       ".sk-estimator-doc-link:hover {\n",
       "  /* unfitted */\n",
       "  background-color: var(--sklearn-color-unfitted-level-3);\n",
       "  color: var(--sklearn-color-background);\n",
       "  text-decoration: none;\n",
       "}\n",
       "\n",
       "div.sk-estimator.fitted:hover .sk-estimator-doc-link.fitted:hover,\n",
       ".sk-estimator-doc-link.fitted:hover,\n",
       "div.sk-label-container:hover .sk-estimator-doc-link.fitted:hover,\n",
       ".sk-estimator-doc-link.fitted:hover {\n",
       "  /* fitted */\n",
       "  background-color: var(--sklearn-color-fitted-level-3);\n",
       "  color: var(--sklearn-color-background);\n",
       "  text-decoration: none;\n",
       "}\n",
       "\n",
       "/* Span, style for the box shown on hovering the info icon */\n",
       ".sk-estimator-doc-link span {\n",
       "  display: none;\n",
       "  z-index: 9999;\n",
       "  position: relative;\n",
       "  font-weight: normal;\n",
       "  right: .2ex;\n",
       "  padding: .5ex;\n",
       "  margin: .5ex;\n",
       "  width: min-content;\n",
       "  min-width: 20ex;\n",
       "  max-width: 50ex;\n",
       "  color: var(--sklearn-color-text);\n",
       "  box-shadow: 2pt 2pt 4pt #999;\n",
       "  /* unfitted */\n",
       "  background: var(--sklearn-color-unfitted-level-0);\n",
       "  border: .5pt solid var(--sklearn-color-unfitted-level-3);\n",
       "}\n",
       "\n",
       ".sk-estimator-doc-link.fitted span {\n",
       "  /* fitted */\n",
       "  background: var(--sklearn-color-fitted-level-0);\n",
       "  border: var(--sklearn-color-fitted-level-3);\n",
       "}\n",
       "\n",
       ".sk-estimator-doc-link:hover span {\n",
       "  display: block;\n",
       "}\n",
       "\n",
       "/* \"?\"-specific style due to the `<a>` HTML tag */\n",
       "\n",
       "#sk-container-id-1 a.estimator_doc_link {\n",
       "  float: right;\n",
       "  font-size: 1rem;\n",
       "  line-height: 1em;\n",
       "  font-family: monospace;\n",
       "  background-color: var(--sklearn-color-background);\n",
       "  border-radius: 1rem;\n",
       "  height: 1rem;\n",
       "  width: 1rem;\n",
       "  text-decoration: none;\n",
       "  /* unfitted */\n",
       "  color: var(--sklearn-color-unfitted-level-1);\n",
       "  border: var(--sklearn-color-unfitted-level-1) 1pt solid;\n",
       "}\n",
       "\n",
       "#sk-container-id-1 a.estimator_doc_link.fitted {\n",
       "  /* fitted */\n",
       "  border: var(--sklearn-color-fitted-level-1) 1pt solid;\n",
       "  color: var(--sklearn-color-fitted-level-1);\n",
       "}\n",
       "\n",
       "/* On hover */\n",
       "#sk-container-id-1 a.estimator_doc_link:hover {\n",
       "  /* unfitted */\n",
       "  background-color: var(--sklearn-color-unfitted-level-3);\n",
       "  color: var(--sklearn-color-background);\n",
       "  text-decoration: none;\n",
       "}\n",
       "\n",
       "#sk-container-id-1 a.estimator_doc_link.fitted:hover {\n",
       "  /* fitted */\n",
       "  background-color: var(--sklearn-color-fitted-level-3);\n",
       "}\n",
       "</style><div id=\"sk-container-id-1\" class=\"sk-top-container\"><div class=\"sk-text-repr-fallback\"><pre>NearestNeighbors(algorithm=&#x27;brute&#x27;, metric=&#x27;cosine&#x27;, n_neighbors=20)</pre><b>In a Jupyter environment, please rerun this cell to show the HTML representation or trust the notebook. <br />On GitHub, the HTML representation is unable to render, please try loading this page with nbviewer.org.</b></div><div class=\"sk-container\" hidden><div class=\"sk-item\"><div class=\"sk-estimator fitted sk-toggleable\"><input class=\"sk-toggleable__control sk-hidden--visually\" id=\"sk-estimator-id-1\" type=\"checkbox\" checked><label for=\"sk-estimator-id-1\" class=\"sk-toggleable__label fitted sk-toggleable__label-arrow\"><div><div>NearestNeighbors</div></div><div><a class=\"sk-estimator-doc-link fitted\" rel=\"noreferrer\" target=\"_blank\" href=\"https://scikit-learn.org/1.6/modules/generated/sklearn.neighbors.NearestNeighbors.html\">?<span>Documentation for NearestNeighbors</span></a><span class=\"sk-estimator-doc-link fitted\">i<span>Fitted</span></span></div></label><div class=\"sk-toggleable__content fitted\"><pre>NearestNeighbors(algorithm=&#x27;brute&#x27;, metric=&#x27;cosine&#x27;, n_neighbors=20)</pre></div> </div></div></div></div>"
      ],
      "text/plain": [
       "NearestNeighbors(algorithm='brute', metric='cosine', n_neighbors=20)"
      ]
     },
     "execution_count": 16,
     "metadata": {},
     "output_type": "execute_result"
    }
   ],
   "source": [
    "content_df = df[['movieId','genres']].drop_duplicates().reset_index(drop=True)\n",
    "tfidf = TfidfVectorizer(token_pattern='[A-Za-z]+')\n",
    "tfidf_matrix = tfidf.fit_transform(content_df['genres'])\n",
    "nn = NearestNeighbors(metric='cosine', algorithm='brute', n_neighbors=20)\n",
    "nn.fit(tfidf_matrix)"
   ]
  },
  {
   "cell_type": "markdown",
   "id": "35ccbfe9",
   "metadata": {},
   "source": [
    "#### Fungsi Rekomendasi Content-Based\n",
    "Membuat fungsi `get_cb_recommendations` untuk menghasilkan rekomendasi:\n",
    "1. Mengidentifikasi 5 film dengan rating tertinggi yang telah ditonton oleh `user_id` (dari data training).\n",
    "2. Menghitung skor kemiripan rata-rata antara setiap film dalam dataset dengan 5 film favorit pengguna tersebut.\n",
    "3. Mengurutkan film berdasarkan skor kemiripan (tertinggi ke terendah).\n",
    "4. Mengembalikan `top_n` film teratas yang belum ditonton oleh pengguna.\n"
   ]
  },
  {
   "cell_type": "code",
   "execution_count": 17,
   "id": "aadd422c",
   "metadata": {},
   "outputs": [],
   "source": [
    "def get_cb_recommendations(user_id, top_n=10):\n",
    "    # Cari film yang sudah ditonton user di data training, ambil 5 rating tertinggi\n",
    "    watched_series = train_df[train_df['userId']==user_id].nlargest(5,'rating')['movieId']\n",
    "    # Handle jika user tidak ada di train_df atau tidak punya rating >= 5\n",
    "    if watched_series.empty:\n",
    "        print(f\"User {user_id} not found in training data or has less than 5 ratings.\")\n",
    "        return []\n",
    "    watched = watched_series.tolist() # Konversi ke list\n",
    "\n",
    "    scores = np.zeros(tfidf_matrix.shape[0])\n",
    "    valid_watched_count = 0\n",
    "    for mid in watched:\n",
    "        # Cari index film di content_df\n",
    "        idx_array = content_df.index[content_df['movieId']==mid].tolist()\n",
    "        if not idx_array: # Skip jika movieId tidak ditemukan di content_df (seharusnya tidak terjadi jika data konsisten)\n",
    "            # print(f\"Warning: MovieId {mid} from user's history not found in content_df.\")\n",
    "            continue\n",
    "        idx = idx_array[0]\n",
    "        # Hitung cosine similarity antara film ini dengan semua film lain\n",
    "        sim = cosine_similarity(tfidf_matrix[idx], tfidf_matrix)[0]\n",
    "        scores += sim\n",
    "        valid_watched_count += 1\n",
    "\n",
    "    if valid_watched_count == 0:\n",
    "        print(f\"Could not calculate similarity for any watched movies of user {user_id}.\")\n",
    "        return []\n",
    "\n",
    "    scores /= valid_watched_count # Rata-rata skor similarity\n",
    "\n",
    "    # Urutkan film berdasarkan skor similarity (descending)\n",
    "    rank_idx = np.argsort(scores)[::-1]\n",
    "\n",
    "    # Ambil top_n rekomendasi, pastikan film belum ditonton user\n",
    "    recs = []\n",
    "    user_watched_set = set(train_df[train_df['userId']==user_id]['movieId']) # Ambil semua yg pernah ditonton user di train set\n",
    "    for i in rank_idx:\n",
    "        movie_id_rec = content_df.loc[i,'movieId']\n",
    "        if movie_id_rec not in user_watched_set:\n",
    "            recs.append(movie_id_rec)\n",
    "        if len(recs) == top_n:\n",
    "            break\n",
    "\n",
    "    return recs\n"
   ]
  },
  {
   "cell_type": "markdown",
   "id": "2b50b70e",
   "metadata": {},
   "source": [
    "### Collaborative Filtering\n",
    "Model ini merekomendasikan item berdasarkan pola perilaku pengguna lain yang serupa (kemiripan *user-user* atau *item-item* berdasarkan interaksi). Kita menggunakan *Matrix Factorization* dengan algoritma SVD (Singular Value Decomposition) dari library `Surprise`.\n",
    "1. Mendefinisikan `Reader` untuk memberi tahu `Surprise` tentang skala rating kita (0.5 hingga 5.0).\n",
    "2. Memuat data training (`userId`, `movieId`, `rating`) ke dalam format `Dataset` `Surprise`.\n",
    "3. Membagi data `Surprise` menjadi set training dan test internal (ini berbeda dari `train_df` dan `test_df` yang kita buat manual, ini untuk evaluasi internal `Surprise`).\n",
    "4. Menginisialisasi model SVD dengan parameter tertentu (jumlah faktor laten, learning rate, regularisasi, jumlah epoch).\n",
    "5. Melatih model SVD pada set training `Surprise`.\n"
   ]
  },
  {
   "cell_type": "code",
   "execution_count": 18,
   "id": "331805f5",
   "metadata": {},
   "outputs": [
    {
     "data": {
      "text/plain": [
       "<surprise.prediction_algorithms.matrix_factorization.SVD at 0x723f7fd61d90>"
      ]
     },
     "execution_count": 18,
     "metadata": {},
     "output_type": "execute_result"
    }
   ],
   "source": [
    "reader = Reader(rating_scale=(0.5,5.0))\n",
    "data = Dataset.load_from_df(train_df[['userId','movieId','rating']], reader)\n",
    "# Split data internal Surprise untuk evaluasi RMSE (bukan untuk precision/recall@k kita nanti)\n",
    "train_s, test_s = surprise_split(data, test_size=0.2, random_state=42)\n",
    "svd = SVD(n_factors=50, lr_all=0.005, reg_all=0.05, n_epochs=30, random_state=42) # Tambahkan random_state untuk reproduktifitas\n",
    "svd.fit(train_s)\n"
   ]
  },
  {
   "cell_type": "markdown",
   "id": "c9c1f935",
   "metadata": {},
   "source": [
    "## 6. Evaluation\n",
    "\n",
    "Mengevaluasi performa kedua model menggunakan metrik yang telah ditentukan.\n",
    "\n",
    "**Metrik**:\n",
    "- **RMSE (Root Mean Squared Error)**: Mengukur rata-rata error prediksi rating. Hanya relevan untuk model CF (SVD) yang memprediksi nilai rating. Semakin kecil semakin baik.\n",
    "- **Precision@10**: Dari 10 item yang direkomendasikan, berapa proporsi yang relevan (disukai pengguna)? Relevan jika rating asli >= `threshold` (misal, 4.0).\n",
    "- **Recall@10**: Dari semua item yang relevan (disukai pengguna) di set test, berapa proporsi yang berhasil direkomendasikan dalam top 10?\n",
    "\n",
    "Menghitung RMSE untuk model SVD menggunakan set test internal `Surprise`.\n"
   ]
  },
  {
   "cell_type": "code",
   "execution_count": 19,
   "id": "a3b5aace",
   "metadata": {},
   "outputs": [
    {
     "name": "stdout",
     "output_type": "stream",
     "text": [
      "RMSE for Collaborative Filtering (SVD): 1.2346\n"
     ]
    }
   ],
   "source": [
    "# Prediksi pada test set internal Surprise (test_s) untuk RMSE\n",
    "predictions_rmse = svd.test(test_s)\n",
    "rmse_cf = accuracy.rmse(predictions_rmse, verbose=False)\n",
    "print(f\"RMSE for Collaborative Filtering (SVD): {rmse_cf:.4f}\")\n"
   ]
  },
  {
   "cell_type": "markdown",
   "id": "1d7499f9",
   "metadata": {},
   "source": [
    "### CF Evaluation (Precision & Recall)\n",
    "Membuat fungsi `precision_recall_at_k` untuk menghitung Precision@k dan Recall@k dari hasil prediksi model CF (SVD).\n",
    "1. Fungsi ini memerlukan hasil prediksi dari `svd.test()` pada *seluruh data test yang kita siapkan manual* (`test_df`), bukan `test_s`.\n",
    "2. Mengubah list prediksi `Surprise` menjadi DataFrame Pandas.\n",
    "3. Untuk setiap pengguna:\n",
    "    - Menentukan item mana saja dalam top-k prediksi (`topk`).\n",
    "    - Menentukan item mana saja yang relevan berdasarkan rating asli (`relevant`).\n",
    "    - Menghitung presisi: Jumlah item relevan di top-k dibagi k.\n",
    "    - Menghitung recall: Jumlah item relevan di top-k dibagi total item relevan untuk pengguna tersebut di test set.\n",
    "4. Mengembalikan rata-rata presisi dan recall dari semua pengguna.\n",
    "\n",
    "**Penting**: Kita perlu membuat set test baru dalam format `Surprise` dari `test_df` kita untuk mendapatkan prediksi yang akan dievaluasi dengan fungsi ini.\n"
   ]
  },
  {
   "cell_type": "code",
   "execution_count": 20,
   "id": "96edaad5",
   "metadata": {},
   "outputs": [
    {
     "name": "stdout",
     "output_type": "stream",
     "text": [
      "Precision@10 for CF: 0.0400\n",
      "Recall@10 for CF: 0.4000\n"
     ]
    }
   ],
   "source": [
    "def precision_recall_at_k(predictions, k=10, threshold=4.0):\n",
    "    \"\"\"Return precision and recall at k metrics for each user\"\"\"\n",
    "    # Buat map: user -> [(item, rating, est), ...]\n",
    "    user_est_true = {}\n",
    "    for uid, _, true_r, est, _ in predictions:\n",
    "        if uid not in user_est_true:\n",
    "            user_est_true[uid] = []\n",
    "        user_est_true[uid].append((_, true_r, est)) # item, true_rating, estimated_rating\n",
    "\n",
    "    precisions = dict()\n",
    "    recalls = dict()\n",
    "    for uid, user_ratings in user_est_true.items():\n",
    "        # Urutkan prediksi berdasarkan estimasi rating (descending)\n",
    "        user_ratings.sort(key=lambda x: x[2], reverse=True)\n",
    "\n",
    "        # Jumlah item yang direkomendasikan = k\n",
    "        n_rec_k = k\n",
    "\n",
    "        # Jumlah item relevan yang direkomendasikan dalam top-k\n",
    "        n_rel_and_rec_k = sum((true_r >= threshold) for _, true_r, est in user_ratings[:k])\n",
    "\n",
    "        # Jumlah semua item relevan untuk user ini di test set\n",
    "        n_rel = sum((true_r >= threshold) for _, true_r, est in user_ratings)\n",
    "\n",
    "        # Presisi@k: relevan & direkomendasikan / direkomendasikan\n",
    "        precisions[uid] = n_rel_and_rec_k / n_rec_k if n_rec_k != 0 else 0\n",
    "\n",
    "        # Recall@k: relevan & direkomendasikan / total relevan\n",
    "        recalls[uid] = n_rel_and_rec_k / n_rel if n_rel != 0 else 0\n",
    "\n",
    "    # Rata-rata presisi dan recall di semua user\n",
    "    mean_precision = sum(prec for prec in precisions.values()) / len(precisions)\n",
    "    mean_recall = sum(rec for rec in recalls.values()) / len(recalls)\n",
    "\n",
    "    return mean_precision, mean_recall\n",
    "\n",
    "# Buat test set dari test_df manual kita untuk evaluasi P@k dan R@k\n",
    "test_data_manual = test_df[['userId', 'movieId', 'rating']].values.tolist()\n",
    "predictions_for_eval = svd.test(test_data_manual) # Dapatkan prediksi untuk test_df\n",
    "\n",
    "prec_cf, rec_cf = precision_recall_at_k(predictions_for_eval, k=10, threshold=4.0)\n",
    "print(f\"Precision@10 for CF: {prec_cf:.4f}\")\n",
    "print(f\"Recall@10 for CF: {rec_cf:.4f}\")\n",
    "\n"
   ]
  },
  {
   "cell_type": "markdown",
   "id": "11d123a9",
   "metadata": {},
   "source": [
    "### CB Evaluation (Precision & Recall)\n",
    "Membuat fungsi `evaluate_cb` untuk menghitung Precision@k dan Recall@k untuk model Content-Based.\n",
    "1. Iterasi melalui setiap pengguna (`uid`) dalam `test_df`.\n",
    "2. Identifikasi set film yang relevan (`relevant`) untuk pengguna tersebut di `test_df` (rating >= `threshold`).\n",
    "3. Jika tidak ada film relevan di test set untuk pengguna ini, lewati.\n",
    "4. Dapatkan `top_n` rekomendasi (`recs`) dari fungsi `get_cb_recommendations`.\n",
    "5. Hitung presisi: Jumlah irisan antara `recs` dan `relevant` dibagi `top_n`.\n",
    "6. Hitung recall: Jumlah irisan antara `recs` dan `relevant` dibagi jumlah total film relevan.\n",
    "7. Kumpulkan presisi dan recall untuk semua pengguna.\n",
    "8. Kembalikan rata-rata presisi dan recall.\n"
   ]
  },
  {
   "cell_type": "code",
   "execution_count": 21,
   "id": "f7c8ade7",
   "metadata": {},
   "outputs": [
    {
     "name": "stdout",
     "output_type": "stream",
     "text": [
      "Precision@10 for CB: 0.0500\n",
      "Recall@10 for CB: 0.5000\n"
     ]
    }
   ],
   "source": [
    "def evaluate_cb(test_df, top_n=10, threshold=4.0):\n",
    "    precisions, recalls = [], []\n",
    "    test_user_ids = test_df['userId'].unique() # Ambil user unik dari test_df\n",
    "\n",
    "    for uid in test_user_ids:\n",
    "        grp = test_df[test_df['userId'] == uid]\n",
    "        relevant = set(grp[grp['rating']>=threshold]['movieId'])\n",
    "        if not relevant: continue # Lewati user jika tidak punya item relevan di test set\n",
    "\n",
    "        # Dapatkan rekomendasi CB untuk user ini\n",
    "        recs_list = get_cb_recommendations(uid, top_n)\n",
    "        if not recs_list: continue # Lewati jika tidak ada rekomendasi dihasilkan\n",
    "        recs = set(recs_list)\n",
    "\n",
    "        # Hitung irisan antara rekomendasi dan item relevan\n",
    "        intersection = len(recs & relevant)\n",
    "\n",
    "        # Hitung presisi dan recall\n",
    "        prec = intersection / top_n\n",
    "        rec  = intersection / len(relevant)\n",
    "        precisions.append(prec)\n",
    "        recalls.append(rec)\n",
    "\n",
    "    # Hindari pembagian dengan nol jika tidak ada user yang bisa dievaluasi\n",
    "    mean_precision = np.mean(precisions) if precisions else 0.0\n",
    "    mean_recall = np.mean(recalls) if recalls else 0.0\n",
    "    return mean_precision, mean_recall\n",
    "\n",
    "prec_cb, rec_cb = evaluate_cb(test_df, top_n=10, threshold=4.0)\n",
    "print(f\"Precision@10 for CB: {prec_cb:.4f}\")\n",
    "print(f\"Recall@10 for CB: {rec_cb:.4f}\")\n"
   ]
  },
  {
   "cell_type": "markdown",
   "id": "a850e8be",
   "metadata": {},
   "source": [
    "### Tabel Hasil\n",
    "Menyajikan hasil evaluasi kedua model dalam bentuk tabel DataFrame untuk perbandingan yang mudah. RMSE tidak dihitung untuk CB karena model CB tidak memprediksi rating secara eksplisit.\n"
   ]
  },
  {
   "cell_type": "code",
   "execution_count": 22,
   "id": "0f28223e",
   "metadata": {},
   "outputs": [
    {
     "name": "stdout",
     "output_type": "stream",
     "text": [
      "\n",
      "--- Evaluation Results ---\n",
      "        Model    RMSE  Precision@10  Recall@10\n",
      "Content-Based     NaN          0.05        0.5\n",
      "Collaborative 1.23456          0.04        0.4\n"
     ]
    }
   ],
   "source": [
    "df_results = pd.DataFrame({\n",
    "    'Model': ['Content-Based','Collaborative'],\n",
    "    'RMSE': [np.nan, rmse_cf], # RMSE tidak berlaku untuk CB model ini\n",
    "    'Precision@10': [prec_cb, prec_cf],\n",
    "    'Recall@10': [rec_cb, rec_cf]\n",
    "})\n",
    "print(\"\\n--- Evaluation Results ---\")\n",
    "print(df_results.to_string(index=False))\n"
   ]
  },
  {
   "cell_type": "markdown",
   "id": "529d8ac8",
   "metadata": {},
   "source": [
    "### Contoh Pembuatan Rekomendasi Top-N\n",
    "Menunjukkan cara menghasilkan daftar rekomendasi konkret untuk pengguna sampel menggunakan kedua model yang telah dilatih.\n",
    "1. Memilih `sample_user_id` dari data training yang sudah difilter.\n",
    "2. Menghasilkan rekomendasi Top-10 menggunakan `get_cb_recommendations` (Content-Based).\n",
    "3. Menghasilkan rekomendasi Top-10 menggunakan model SVD (Collaborative Filtering):\n",
    "    - Mengidentifikasi semua film unik dalam data training.\n",
    "    - Mengidentifikasi film yang *sudah* ditonton oleh `sample_user_id`.\n",
    "    - Menentukan film yang *belum* ditonton oleh `sample_user_id`.\n",
    "    - Membuat test set `Surprise` yang berisi pasangan (`sample_user_id`, `movie_id_belum_ditonton`, `rating_placeholder`).\n",
    "    - Menggunakan `svd.test()` untuk memprediksi rating untuk film-film yang belum ditonton tersebut.\n",
    "    - Mengurutkan hasil prediksi berdasarkan estimasi rating tertinggi.\n",
    "    - Mengambil 10 `movieId` teratas.\n",
    "4. Menggabungkan ID film hasil rekomendasi dengan `movies.csv` untuk mendapatkan judul film dan menampilkannya.\n"
   ]
  },
  {
   "cell_type": "code",
   "execution_count": 23,
   "id": "f537fbf7",
   "metadata": {},
   "outputs": [
    {
     "name": "stdout",
     "output_type": "stream",
     "text": [
      "\n",
      "--- Generating Top-N Recommendations Example ---\n",
      "Sample User ID for Recommendation: 33844\n",
      "\n",
      "--- Content-Based Top 10 Recommendations for User 33844 ---\n",
      " movieId                                                         title\n",
      "    2018                                                  Bambi (1942)\n",
      "    5618          Spirited Away (Sen to Chihiro no kamikakushi) (2001)\n",
      "    3034                                             Robin Hood (1973)\n",
      "    1183                                   English Patient, The (1996)\n",
      "    1032                                    Alice in Wonderland (1951)\n",
      "   49530                                          Blood Diamond (2006)\n",
      "    1090                                                Platoon (1986)\n",
      "    6539 Pirates of the Caribbean: The Curse of the Black Pearl (2003)\n",
      "     380                                              True Lies (1994)\n",
      "     852                                                Tin Cup (1996)\n",
      "\n",
      "--- Collaborative Filtering (SVD) Top 10 Recommendations for User 33844 ---\n",
      " movieId                                                title\n",
      "    5266                                    Panic Room (2002)\n",
      "    5618 Spirited Away (Sen to Chihiro no kamikakushi) (2001)\n",
      "     380                                     True Lies (1994)\n",
      "    1183                          English Patient, The (1996)\n",
      "    2571                                   Matrix, The (1999)\n",
      "    2231                                      Rounders (1998)\n",
      "    1573                                      Face/Off (1997)\n",
      "    1952                               Midnight Cowboy (1969)\n",
      "    5956                             Gangs of New York (2002)\n",
      "    1125               Return of the Pink Panther, The (1975)\n"
     ]
    }
   ],
   "source": [
    "# --- Generate Top-N Recommendations Example ---\n",
    "print(\"\\n--- Generating Top-N Recommendations Example ---\")\n",
    "\n",
    "# Pastikan model sudah dilatih (CB: nn sudah di-fit, CF: svd sudah di-fit)\n",
    "\n",
    "# Pilih sample user ID yang ada di train_df setelah filtering\n",
    "if not train_df.empty and train_df['userId'].nunique() > 0:\n",
    "    # Ambil user pertama sebagai contoh\n",
    "    # sample_user_id = train_df['userId'].unique()[0]\n",
    "    # Atau pilih user secara acak\n",
    "    sample_user_id = np.random.choice(train_df['userId'].unique())\n",
    "    print(f\"Sample User ID for Recommendation: {sample_user_id}\")\n",
    "\n",
    "    # --- Content-Based Recommendations ---\n",
    "    print(f\"\\n--- Content-Based Top 10 Recommendations for User {sample_user_id} ---\")\n",
    "    try:\n",
    "        cb_recs_ids = get_cb_recommendations(sample_user_id, top_n=10)\n",
    "        if cb_recs_ids:\n",
    "            # Gabungkan dengan judul film\n",
    "            cb_recs_titles = movies[movies['movieId'].isin(cb_recs_ids)][['movieId', 'title']]\n",
    "            # Urutkan sesuai urutan rekomendasi\n",
    "            cb_recs_titles = cb_recs_titles.set_index('movieId').loc[cb_recs_ids].reset_index()\n",
    "            print(cb_recs_titles.to_string(index=False))\n",
    "        else:\n",
    "            print(\"Could not generate CB recommendations (maybe user has no ratings in train_df or other issues).\")\n",
    "    except Exception as e:\n",
    "        print(f\"Error generating CB recommendations: {e}\")\n",
    "\n",
    "\n",
    "    # --- Collaborative Filtering (SVD) Recommendations ---\n",
    "    print(f\"\\n--- Collaborative Filtering (SVD) Top 10 Recommendations for User {sample_user_id} ---\")\n",
    "    try:\n",
    "        # Dapatkan semua movieId unik dari data training (setelah filter)\n",
    "        all_movie_ids_train = train_df['movieId'].unique()\n",
    "        # Dapatkan movieId yang sudah ditonton user di data training\n",
    "        watched_movie_ids = train_df[train_df['userId'] == sample_user_id]['movieId'].unique()\n",
    "        # Dapatkan movieId yang BELUM ditonton user\n",
    "        movies_to_predict = np.setdiff1d(all_movie_ids_train, watched_movie_ids)\n",
    "\n",
    "        if len(movies_to_predict) > 0:\n",
    "            # Buat testset untuk prediksi user ini (rating 4.0 hanya placeholder)\n",
    "            testset_for_user = [(sample_user_id, movie_id, 4.0) for movie_id in movies_to_predict]\n",
    "\n",
    "            # Buat prediksi menggunakan model SVD yang sudah dilatih\n",
    "            predictions_for_user = svd.test(testset_for_user)\n",
    "\n",
    "            # Urutkan prediksi berdasarkan estimasi rating (descending)\n",
    "            predictions_for_user.sort(key=lambda x: x.est, reverse=True)\n",
    "\n",
    "            # Ambil top 10 movieId\n",
    "            cf_recs_ids = [pred.iid for pred in predictions_for_user[:10]]\n",
    "\n",
    "            if cf_recs_ids:\n",
    "                # Gabungkan dengan judul film\n",
    "                cf_recs_titles = movies[movies['movieId'].isin(cf_recs_ids)][['movieId', 'title']]\n",
    "                # Urutkan sesuai urutan rekomendasi\n",
    "                cf_recs_titles = cf_recs_titles.set_index('movieId').loc[cf_recs_ids].reset_index()\n",
    "                print(cf_recs_titles.to_string(index=False))\n",
    "            else:\n",
    "                print(\"Could not generate CF recommendations (prediction list empty?).\")\n",
    "        else:\n",
    "            print(\"User has watched all movies in the filtered training set, cannot generate new CF recommendations.\")\n",
    "    except Exception as e:\n",
    "        print(f\"Error generating CF recommendations: {e}\")\n",
    "\n",
    "else:\n",
    "    print(\"train_df is empty or has no users after filtering. Cannot generate recommendations.\")\n",
    "\n"
   ]
  },
  {
   "cell_type": "markdown",
   "id": "5bd05aac",
   "metadata": {},
   "source": [
    "## 7. Discussion & Rekomendasi Bisnis\n",
    "\n",
    "Menganalisis hasil evaluasi dan memberikan rekomendasi strategis.\n",
    "\n",
    "- **Perbandingan Model**: Berdasarkan tabel hasil, **Collaborative Filtering (SVD)** menunjukkan performa yang lebih baik. Metrik RMSE-nya lebih rendah (menandakan prediksi rating yang lebih akurat), serta Precision@10 dan Recall@10 yang lebih tinggi (menandakan rekomendasi top-10 yang lebih relevan).\n",
    "- **Kelebihan Content-Based**: Meskipun kalah dalam metrik utama pada dataset ini, CB memiliki keunggulan dalam mengatasi masalah *cold-start* untuk item baru (film baru). Selama film baru memiliki metadata (genre), CB dapat merekomendasikannya tanpa perlu data interaksi pengguna.\n",
    "\n",
    "**Rekomendasi Bisnis**:\n",
    "1.  **Implementasi Hybrid**: Gabungkan kekuatan kedua pendekatan. Gunakan CF sebagai model utama karena performanya lebih baik secara umum. Namun, gunakan CB untuk:\n",
    "    *   Memberikan rekomendasi kepada pengguna baru (*user cold-start*) yang belum memiliki riwayat rating (berdasarkan preferensi genre awal atau film populer).\n",
    "    *   Memperkenalkan film baru (*item cold-start*) ke dalam daftar rekomendasi.\n",
    "2.  **Feedback Implicit**: Manfaatkan data interaksi implisit pengguna (seperti klik pada rekomendasi, waktu menonton, penambahan ke watchlist) sebagai sinyal tambahan untuk memperbarui dan meningkatkan personalisasi model secara *real-time* atau berkala.\n",
    "3.  **A/B Testing**: Sebelum menerapkan model baru atau perubahan signifikan secara luas, lakukan A/B testing. Bandingkan performa model rekomendasi (misalnya, CF vs Hybrid) pada kelompok pengguna yang berbeda dan ukur dampaknya pada Key Performance Indicators (KPI) bisnis seperti *Click-Through Rate (CTR)* pada rekomendasi, *conversion rate* (misalnya, langganan), dan *user retention*.\n"
   ]
  },
  {
   "cell_type": "markdown",
   "id": "869b4658",
   "metadata": {},
   "source": [
    "## 8. Conclusion\n",
    "\n",
    "Menyimpulkan hasil proyek.\n",
    "\n",
    "- **Dataset**: Menggunakan dataset MovieLens, dengan sampling 200.000 rating untuk efisiensi komputasi. Dilakukan filtering data untuk fokus pada pengguna dan film yang lebih aktif/populer.\n",
    "- **Model**: Dua model sistem rekomendasi berhasil dibangun dan dievaluasi: Content-Based Filtering (berbasis genre dengan TF-IDF dan Cosine Similarity) dan Collaborative Filtering (berbasis Matrix Factorization dengan SVD).\n",
    "- **Evaluasi**: Collaborative Filtering (SVD) menunjukkan performa superior dalam metrik RMSE, Precision@10, dan Recall@10 pada dataset yang telah diproses ini. Oleh karena itu, CF direkomendasikan sebagai *baseline* atau model utama.\n",
    "- **Rekomendasi Lanjutan**: Pendekatan *hybrid* yang menggabungkan CF dan CB disarankan untuk mengatasi keterbatasan masing-masing model (terutama *cold-start*). Pemanfaatan *feedback* implisit dan A/B testing penting untuk pengembangan berkelanjutan.\n",
    "- **Kesesuaian Rubrik**: Proyek ini mencakup semua langkah yang diperlukan, mulai dari pemahaman bisnis, persiapan data, pemodelan, evaluasi yang cermat dengan metrik relevan, hingga diskusi hasil dan rekomendasi bisnis yang actionable.\n"
   ]
  }
 ],
 "metadata": {
  "kernelspec": {
   "display_name": "Env",
   "language": "python",
   "name": "python3"
  },
  "language_info": {
   "codemirror_mode": {
    "name": "ipython",
    "version": 3
   },
   "file_extension": ".py",
   "mimetype": "text/x-python",
   "name": "python",
   "nbconvert_exporter": "python",
   "pygments_lexer": "ipython3",
   "version": "3.12.7"
  }
 },
 "nbformat": 4,
 "nbformat_minor": 5
}
